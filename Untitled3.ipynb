{
  "nbformat": 4,
  "nbformat_minor": 0,
  "metadata": {
    "colab": {
      "name": "Untitled3.ipynb",
      "provenance": [],
      "authorship_tag": "ABX9TyNeUMYxtfYf8Zuyl1t+Ca2X",
      "include_colab_link": true
    },
    "kernelspec": {
      "name": "python3",
      "display_name": "Python 3"
    }
  },
  "cells": [
    {
      "cell_type": "markdown",
      "metadata": {
        "id": "view-in-github",
        "colab_type": "text"
      },
      "source": [
        "<a href=\"https://colab.research.google.com/github/svetli-n/dotfiles/blob/master/Untitled3.ipynb\" target=\"_parent\"><img src=\"https://colab.research.google.com/assets/colab-badge.svg\" alt=\"Open In Colab\"/></a>"
      ]
    },
    {
      "cell_type": "code",
      "metadata": {
        "id": "ae7QVc5mUOQ-",
        "colab": {
          "base_uri": "https://localhost:8080/"
        },
        "outputId": "604633be-4115-4349-864d-84436c9994eb"
      },
      "source": [
        "from functools import partial\r\n",
        "\r\n",
        "def fun(a, b=None):\r\n",
        "  def aa():\r\n",
        "    return \"aa\"\r\n",
        "  def bb():\r\n",
        "    return \"bb\"\r\n",
        "  return {\r\n",
        "      'a': aa(),\r\n",
        "      12: 12,\r\n",
        "  }.get(a, bb())\r\n",
        "\r\n",
        "fun=partial(fun, 12)\r\n",
        "fun()"
      ],
      "execution_count": null,
      "outputs": [
        {
          "output_type": "execute_result",
          "data": {
            "text/plain": [
              "12"
            ]
          },
          "metadata": {
            "tags": []
          },
          "execution_count": 27
        }
      ]
    }
  ]
}